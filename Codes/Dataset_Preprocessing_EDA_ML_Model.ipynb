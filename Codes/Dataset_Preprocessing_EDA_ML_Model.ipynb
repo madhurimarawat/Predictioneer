{
 "cells": [
  {
   "cell_type": "markdown",
   "id": "78ce6a9e-af60-4a2e-85be-5ffc8457a749",
   "metadata": {},
   "source": [
    "## Predictioneer  \n",
    "Predictive modeling for Ebola outbreaks to forecast cases, deaths, and fatality rates using geographical and epidemiological data. This repository contains predictive models, implementation scripts, and a comprehensive report detailing the methodology, results, and applications in outbreak management.\n",
    "\n",
    "<img src=\"images/Illustration_1.png\" style=\"height:300px; display:block; margin:auto;\">\n",
    "\n",
    "The project was developed as part of <a href=\"https://unstop.com/hackathons/predictioneer-iit-bombay-1364982\">**Predictioneer**</a>, a hackathon organized by the Indian Institute of Technology (IIT) Bombay.\n",
    "\n",
    "We will begin by preprocessing and performing exploratory data analysis (EDA) on the provided dataset, followed by building and optimizing the prediction model."
   ]
  },
  {
   "cell_type": "markdown",
   "id": "51433c11-42c5-4f1b-bd7c-fdd2f224efca",
   "metadata": {},
   "source": [
    "### Loading the Dataset"
   ]
  },
  {
   "cell_type": "markdown",
   "id": "edcf859e-44f6-4d66-8a3f-c9da53093dc8",
   "metadata": {},
   "source": [
    "#### Description for the dataset\n",
    "* There are rows with missing latitudes and longitudes ignore those \n",
    "* You have CFR data in all rows and deaths in a few and confirmed cases unknown \n",
    "* Deaths you have to predict the gaps and as soon as you have the data for deaths you can get the confirmed cases from CFR ratio \n",
    "*  Any exteranl factors that you might think may affect the prediction you can use like temperature or so but you have to provide a clear explaination for the same\n",
    "* Case fatality ratio= (death / confirmed )* 100\n",
    "* Provide a single CSV file with all the predictions"
   ]
  },
  {
   "cell_type": "code",
   "execution_count": 16,
   "id": "7114abb2-4564-4be8-980e-5a6132cbd7f9",
   "metadata": {},
   "outputs": [
    {
     "name": "stdout",
     "output_type": "stream",
     "text": [
      "Training Dataset is:\n",
      "\n",
      "            Lat       Long_  Deaths  Case_Fatality_Ratio\n",
      "0     33.939110   67.709953     NaN             3.779217\n",
      "1     41.153300   20.168300     NaN             1.077234\n",
      "2     28.033900    1.659600     NaN             2.536905\n",
      "3     42.506300    1.521800   165.0             0.345543\n",
      "4    -11.202700   17.873900     NaN             1.836434\n",
      "...         ...         ...     ...                  ...\n",
      "4011  31.952200   35.233200     NaN             0.811686\n",
      "4012  39.904200  116.407400     0.0             0.000000\n",
      "4013  15.552727   48.516388     NaN            18.074508\n",
      "4014 -13.133897   27.849332     NaN             1.201603\n",
      "4015 -19.015438   29.154857     NaN             2.168235\n",
      "\n",
      "[4016 rows x 4 columns]\n"
     ]
    }
   ],
   "source": [
    "# Importing Required Libraries\n",
    "import numpy as np\n",
    "import pandas as pd\n",
    "\n",
    "train_df = pd.read_csv(\"data/raw/train_data.csv\")\n",
    "\n",
    "# Printing Training Dataset\n",
    "print(\"Training Dataset is:\\n\")\n",
    "print(train_df)"
   ]
  },
  {
   "cell_type": "code",
   "execution_count": 4,
   "id": "399a07ac-a626-4cc5-a7ad-aaa953088cc6",
   "metadata": {},
   "outputs": [
    {
     "name": "stdout",
     "output_type": "stream",
     "text": [
      "Testing Dataset is:\n",
      "\n",
      "            Lat       Long_\n",
      "0     41.153300   20.168300\n",
      "1    -71.949900   23.347000\n",
      "2    -35.473500  149.012400\n",
      "3    -34.928500  138.600700\n",
      "4     47.516200   14.550100\n",
      "...         ...         ...\n",
      "999   49.213800   -2.135800\n",
      "1000  -7.946700  -14.355900\n",
      "1001  52.130700   -3.783700\n",
      "1002   6.423800  -66.589700\n",
      "1003  15.552727   48.516388\n",
      "\n",
      "[1004 rows x 2 columns]\n"
     ]
    }
   ],
   "source": [
    "test_df = pd.read_csv(\"data/raw/test_data.csv\")\n",
    "\n",
    "# Printing Training Dataset\n",
    "print(\"Testing Dataset is:\\n\")\n",
    "print(test_df)"
   ]
  },
  {
   "cell_type": "markdown",
   "id": "15992b91-abac-4de3-b32b-5faeff2e48cc",
   "metadata": {},
   "source": [
    "### Seeing Columns of the dataset"
   ]
  },
  {
   "cell_type": "code",
   "execution_count": 6,
   "id": "bbe5df0d-7811-41fe-b2ab-75944fefc28a",
   "metadata": {},
   "outputs": [
    {
     "name": "stdout",
     "output_type": "stream",
     "text": [
      "Training Dataset Columns:\n",
      "\n",
      "Index(['Lat', 'Long_', 'Deaths', 'Case_Fatality_Ratio'], dtype='object')\n",
      "\n",
      "Testing Dataset Columns:\n",
      "\n",
      "Index(['Lat', 'Long_'], dtype='object')\n"
     ]
    }
   ],
   "source": [
    "print(\"Training Dataset Columns:\\n\")\n",
    "print(train_df.columns)\n",
    "\n",
    "print(\"\\nTesting Dataset Columns:\\n\")\n",
    "print(test_df.columns)"
   ]
  },
  {
   "cell_type": "markdown",
   "id": "f8d4dbd1-dff6-44d0-886d-8543714078f1",
   "metadata": {},
   "source": [
    "### Seeing Descriptive Statistics"
   ]
  },
  {
   "cell_type": "code",
   "execution_count": 8,
   "id": "da5061d1-fe24-4dd7-89a9-03735c4b46b9",
   "metadata": {
    "scrolled": true
   },
   "outputs": [
    {
     "name": "stdout",
     "output_type": "stream",
     "text": [
      "Training Dataset Columns Description:\n",
      "\n",
      "<bound method NDFrame.describe of             Lat       Long_  Deaths  Case_Fatality_Ratio\n",
      "0     33.939110   67.709953     NaN             3.779217\n",
      "1     41.153300   20.168300     NaN             1.077234\n",
      "2     28.033900    1.659600     NaN             2.536905\n",
      "3     42.506300    1.521800   165.0             0.345543\n",
      "4    -11.202700   17.873900     NaN             1.836434\n",
      "...         ...         ...     ...                  ...\n",
      "4011  31.952200   35.233200     NaN             0.811686\n",
      "4012  39.904200  116.407400     0.0             0.000000\n",
      "4013  15.552727   48.516388     NaN            18.074508\n",
      "4014 -13.133897   27.849332     NaN             1.201603\n",
      "4015 -19.015438   29.154857     NaN             2.168235\n",
      "\n",
      "[4016 rows x 4 columns]>\n",
      "\n",
      "Testing Dataset Columns Description:\n",
      "\n",
      "<bound method NDFrame.describe of             Lat       Long_\n",
      "0     41.153300   20.168300\n",
      "1    -71.949900   23.347000\n",
      "2    -35.473500  149.012400\n",
      "3    -34.928500  138.600700\n",
      "4     47.516200   14.550100\n",
      "...         ...         ...\n",
      "999   49.213800   -2.135800\n",
      "1000  -7.946700  -14.355900\n",
      "1001  52.130700   -3.783700\n",
      "1002   6.423800  -66.589700\n",
      "1003  15.552727   48.516388\n",
      "\n",
      "[1004 rows x 2 columns]>\n"
     ]
    }
   ],
   "source": [
    "print(\"Training Dataset Columns Description:\\n\")\n",
    "print(train_df.describe)\n",
    "\n",
    "print(\"\\nTesting Dataset Columns Description:\\n\")\n",
    "print(test_df.describe)"
   ]
  },
  {
   "cell_type": "markdown",
   "id": "b47fd916-0f3f-4680-bdb1-567de669b4c6",
   "metadata": {},
   "source": [
    "### Handling Missing Values\n",
    "\n",
    "#### Explanation\n",
    "1. **Handling Missing Latitudes and Longitudes**:\n",
    "   - Rows with missing `latitude` (`Lat`) and `longitude` (`Long_`) are dropped using `dropna()` for better data integrity.\n",
    "\n",
    "2. **Filling Missing Deaths**:\n",
    "   - Missing `deaths` values are filled using **linear interpolation**. This approach estimates the missing data points based on surrounding values. You can modify this to other imputation methods like **forward fill** (`ffill`) or **mean imputation** based on your needs.\n",
    "\n",
    "3. **Calculating Confirmed Cases**:\n",
    "   - `confirmed_cases` are derived using the **Case Fatality Ratio (CFR)**, which is calculated as:\n",
    "   \n",
    "        **Case Fatality Ratio (CFR):**  \n",
    "        CFR = (deaths / confirmed cases) × 100\n",
    "        \n",
    "   - Rearranged to calculate `confirmed_cases`:\n",
    "   \n",
    "        **Confirmed Cases** = (deaths / CFR) × 100\n",
    "\n",
    "#### Code Workflow\n",
    "- **Latitude and Longitude Handling**: The `fill_missing_lat_lon` function drops rows with missing latitude and longitude values.\n",
    "- **Deaths and Confirmed Cases Handling**: The `fill_missing_deaths_and_cases` function interpolates missing death counts and calculates the confirmed cases based on the Case Fatality Ratio.\n",
    "- The results are processed for both the `train_df` and `test_df` datasets and saved to a single CSV file named `predictions.csv`.\n",
    "\n",
    "This method ensures that the dataset remains consistent and reliable for analysis and predictions."
   ]
  },
  {
   "cell_type": "code",
   "execution_count": 18,
   "id": "129734b4-d958-40d2-9c0f-bdda5f55a5ab",
   "metadata": {},
   "outputs": [],
   "source": [
    "# Display all columns for better visibility\n",
    "pd.set_option('display.max_columns', None)\n",
    "\n",
    "# Fill missing latitude and longitude\n",
    "def fill_missing_lat_lon(df):\n",
    "    \"\"\"Drops rows with missing latitudes and longitudes.\"\"\"\n",
    "    df = df.dropna(subset=['Lat', 'Long_'])\n",
    "    return df\n",
    "\n",
    "# Fill missing deaths and calculate confirmed cases using Case Fatality Ratio (CFR)\n",
    "def fill_missing_deaths_and_cases(df):\n",
    "    \"\"\"Fills missing deaths using interpolation and calculates confirmed cases.\"\"\"\n",
    "    # Interpolate missing deaths (linear interpolation)\n",
    "    if 'Deaths' in df.columns:\n",
    "        df['Deaths'] = df['Deaths'].interpolate(method='linear', limit_direction='both')\n",
    "\n",
    "    # Calculate confirmed cases from Case Fatality Ratio\n",
    "    if 'Case_Fatality_Ratio' in df.columns:\n",
    "        df['Confirmed_Cases'] = df.apply(\n",
    "            lambda row: (row['Deaths'] / row['Case_Fatality_Ratio'] * 100)\n",
    "            if not pd.isnull(row['Case_Fatality_Ratio']) and row['Case_Fatality_Ratio'] != 0\n",
    "            else np.nan,\n",
    "            axis=1\n",
    "        )\n",
    "    return df"
   ]
  },
  {
   "cell_type": "code",
   "execution_count": 20,
   "id": "12ac7345-e140-40c3-8746-7e483969ded5",
   "metadata": {
    "scrolled": true
   },
   "outputs": [
    {
     "name": "stdout",
     "output_type": "stream",
     "text": [
      "Preprocessing for train_df:\n",
      "Preprocessing for test_df:\n",
      "Preprocessed CSV files saved to directory\n"
     ]
    }
   ],
   "source": [
    "# Main Workflow\n",
    "print(\"Preprocessing for train_df:\")\n",
    "train_df = fill_missing_lat_lon(train_df)\n",
    "train_df = fill_missing_deaths_and_cases(train_df)\n",
    "\n",
    "print(\"Preprocessing for test_df:\")\n",
    "test_df = fill_missing_lat_lon(test_df)\n",
    "\n",
    "# Save results to a CSV file\n",
    "\n",
    "train_df.to_csv('data/interim/train_data.csv', index=False)\n",
    "\n",
    "test_df.to_csv('data/interim/test_data.csv', index=False)\n",
    "\n",
    "print(\"Preprocessed CSV files saved to directory\")\n"
   ]
  },
  {
   "cell_type": "markdown",
   "id": "b218d9db-813a-44c2-90b7-a368d732cbb3",
   "metadata": {},
   "source": [
    "### Exploratory Data Analysis"
   ]
  },
  {
   "cell_type": "code",
   "execution_count": null,
   "id": "798c46c6-fac1-438e-a62e-0de3f65f1283",
   "metadata": {
    "scrolled": true
   },
   "outputs": [
    {
     "name": "stdout",
     "output_type": "stream",
     "text": [
      "EDA for Training Dataset:\n",
      "Training Data Information:\n",
      "<class 'pandas.core.frame.DataFrame'>\n",
      "Index: 3925 entries, 0 to 4015\n",
      "Data columns (total 5 columns):\n",
      " #   Column               Non-Null Count  Dtype  \n",
      "---  ------               --------------  -----  \n",
      " 0   Lat                  3925 non-null   float64\n",
      " 1   Long_                3925 non-null   float64\n",
      " 2   Deaths               3925 non-null   float64\n",
      " 3   Case_Fatality_Ratio  3922 non-null   float64\n",
      " 4   Confirmed_Cases      3808 non-null   float64\n",
      "dtypes: float64(5)\n",
      "memory usage: 184.0 KB\n",
      "None\n",
      "\n",
      "Missing Values in Training Data:\n",
      "Lat                      0\n",
      "Long_                    0\n",
      "Deaths                   0\n",
      "Case_Fatality_Ratio      3\n",
      "Confirmed_Cases        117\n",
      "dtype: int64\n",
      "\n",
      "Descriptive Statistics for Numerical Columns in Training Data:\n",
      "               Lat        Long_       Deaths  Case_Fatality_Ratio  \\\n",
      "count  3925.000000  3925.000000  3925.000000          3922.000000   \n",
      "mean     35.736183   -71.109728    78.165223             1.589198   \n",
      "std      13.441327    55.361480    52.568231             9.838296   \n",
      "min     -71.949900  -178.116500     0.000000             0.000000   \n",
      "25%      33.191535   -96.595639    34.000000             0.901093   \n",
      "50%      37.895700   -86.717326    71.000000             1.288362   \n",
      "75%      42.176955   -77.357900   118.000000             1.740990   \n",
      "max      71.706900   178.065000   200.000000           600.000000   \n",
      "\n",
      "       Confirmed_Cases  \n",
      "count      3808.000000  \n",
      "mean       8511.593917  \n",
      "std       13519.758050  \n",
      "min           0.000000  \n",
      "25%        2651.902832  \n",
      "50%        5622.520349  \n",
      "75%       10040.684052  \n",
      "max      256749.627513  \n"
     ]
    },
    {
     "data": {
      "image/png": "[encoded data removed]",
      "text/plain": [
       "<Figure size 1000x600 with 1 Axes>"
      ]
     },
     "metadata": {},
     "output_type": "display_data"
    }
   ],
   "source": [
    "# Importing Required Libraries\n",
    "import matplotlib.pyplot as plt\n",
    "import seaborn as sns\n",
    "\n",
    "# Display all columns for better visibility\n",
    "pd.set_option('display.max_columns', None)\n",
    "\n",
    "# EDA for the Training Dataset\n",
    "def eda_train_df(df):\n",
    "    \"\"\"Performs EDA on the training dataset.\"\"\"\n",
    "    \n",
    "    # Display basic information and missing values\n",
    "    print(\"Training Data Information:\")\n",
    "    print(df.info())\n",
    "    print(\"\\nMissing Values in Training Data:\")\n",
    "    print(df.isnull().sum())\n",
    "    \n",
    "    # Descriptive statistics for numerical columns\n",
    "    print(\"\\nDescriptive Statistics for Numerical Columns in Training Data:\")\n",
    "    print(df.describe())\n",
    "\n",
    "    # Visualizing missing values (heatmap)\n",
    "    plt.figure(figsize=(10, 6))\n",
    "    sns.heatmap(df.isnull(), cbar=False, cmap='viridis')\n",
    "    plt.title(\"Missing Values Heatmap - Training Data\")\n",
    "    plt.show()\n",
    "\n",
    "    # Pairplot to visualize correlations and distributions of numeric data\n",
    "    sns.pairplot(df)\n",
    "    plt.suptitle(\"Pairplot - Training Data\", y=1.02)\n",
    "    plt.show()\n",
    "\n",
    "# EDA for the Testing Dataset\n",
    "def eda_test_df(df):\n",
    "    \"\"\"Performs EDA on the testing dataset.\"\"\"\n",
    "    \n",
    "    # Display basic information and missing values\n",
    "    print(\"Testing Data Information:\")\n",
    "    print(df.info())\n",
    "    print(\"\\nMissing Values in Testing Data:\")\n",
    "    print(df.isnull().sum())\n",
    "    \n",
    "    # Visualizing missing values (heatmap)\n",
    "    plt.figure(figsize=(10, 6))\n",
    "    sns.heatmap(df.isnull(), cbar=False, cmap='viridis')\n",
    "    plt.title(\"Missing Values Heatmap - Testing Data\")\n",
    "    plt.show()\n",
    "\n",
    "# Perform EDA on both datasets\n",
    "print(\"EDA for Training Dataset:\")\n",
    "eda_train_df(train_df)\n",
    "\n",
    "print(\"\\nEDA for Testing Dataset:\")\n",
    "eda_test_df(test_df)\n"
   ]
  },
  {
   "cell_type": "code",
   "execution_count": null,
   "id": "5b251f5e-8ba2-4e81-8f00-0ee3f2161886",
   "metadata": {},
   "outputs": [],
   "source": []
  }
 ],
 "metadata": {
  "kernelspec": {
   "display_name": "Python 3 (ipykernel)",
   "language": "python",
   "name": "python3"
  },
  "language_info": {
   "codemirror_mode": {
    "name": "ipython",
    "version": 3
   },
   "file_extension": ".py",
   "mimetype": "text/x-python",
   "name": "python",
   "nbconvert_exporter": "python",
   "pygments_lexer": "ipython3",
   "version": "3.12.7"
  }
 },
 "nbformat": 4,
 "nbformat_minor": 5
}
